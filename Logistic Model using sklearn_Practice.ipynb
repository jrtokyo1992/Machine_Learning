{
 "cells": [
  {
   "cell_type": "code",
   "execution_count": 1,
   "metadata": {},
   "outputs": [],
   "source": [
    "# データ加工・処理・分析ライブラリ\n",
    "import numpy as np\n",
    "import numpy.random as random\n",
    "import scipy as sp\n",
    "from pandas import Series, DataFrame\n",
    "import pandas as pd"
   ]
  },
  {
   "cell_type": "code",
   "execution_count": 35,
   "metadata": {},
   "outputs": [],
   "source": [
    "# データを取得\n",
    "import requests, zipfile\n",
    "import io\n",
    "url = 'http://archive.ics.uci.edu/ml/machine-learning-databases/adult/adult.data'\n",
    "res = requests.get(url).content\n",
    "\n",
    "# 取得したデータをDataFrameオブジェクトとして読み込み\n",
    "adult_raw = pd.read_csv(io.StringIO(res.decode('utf-8')), header=None)\n",
    "\n",
    "# データの列にラベルを設定\n",
    "adult_raw.columns =['age','workclass','fnlwgt','education','education-num','marital-status',\n",
    "                             'occupation','relationship','race','sex','capital-gain','capital-loss','hours-per-week',\n",
    "                             'native-country','flg-50K']\n"
   ]
  },
  {
   "cell_type": "code",
   "execution_count": 37,
   "metadata": {},
   "outputs": [],
   "source": [
    "# first check whether the data contains the null\n",
    "adult_raw.isnull().sum()\n",
    "# some data manipulation. first get the dummy variable of the y variable\n",
    "adult_raw['fin_flg'] = adult_raw['flg-50K'].map(lambda x: 1 if x ==' >50K' else 0)"
   ]
  },
  {
   "cell_type": "code",
   "execution_count": 40,
   "metadata": {},
   "outputs": [],
   "source": [
    "adult=adult_raw[['age','fnlwgt','education-num','capital-gain','capital-loss','flg-50K','fin_flg']]\n",
    "adult.head()"
   ]
  },
  {
   "cell_type": "code",
   "execution_count": 53,
   "metadata": {},
   "outputs": [
    {
     "name": "stdout",
     "output_type": "stream",
     "text": [
      "[[0.89628393 0.10371607]\n",
      " [0.76290336 0.23709664]\n",
      " [0.82684487 0.17315513]\n",
      " ...\n",
      " [0.63634739 0.36365261]\n",
      " [0.90316553 0.09683447]\n",
      " [0.52317209 0.47682791]]\n",
      "0.8106265356265356 0.8101467968797985\n",
      "0.3558219614845045 0.7110091743119266\n"
     ]
    },
    {
     "data": {
      "text/plain": [
       "array([0.34697781, 0.35501148, 0.36548029])"
      ]
     },
     "execution_count": 53,
     "metadata": {},
     "output_type": "execute_result"
    }
   ],
   "source": [
    "# now we can start the model. we first get the X and\n",
    "from sklearn.model_selection import train_test_split\n",
    "from sklearn.linear_model import LogisticRegression\n",
    "from sklearn import preprocessing\n",
    "from sklearn.model_selection import cross_val_score,cross_val_predict\n",
    "from sklearn.metrics import recall_score, precision_score\n",
    "from sklearn.metrics import confusion_matrix\n",
    "y=adult['fin_flg']\n",
    "x=adult.drop(['fin_flg','flg-50K'],axis=1)\n",
    "# scaling the X\n",
    "x=preprocessing.scale(x, axis=0)\n",
    "# split the data\n",
    "x_train, x_verify, y_train, y_verify=train_test_split(x,y,test_size=0.5, random_state=0)\n",
    "# now get the model fromt logistic\n",
    "model = LogisticRegression()\n",
    "model.fit(x_train, y_train)\n",
    "# you can calculate the possibility for new sample \n",
    "print(model.predict_proba(x_verify))\n",
    "# then you can plot the score\n",
    "print( model.score(x_train,y_train),model.score(x_verify,y_verify) )\n",
    "# you can also do the cross validation\n",
    "cross_val_score(model, x,y, cv=3, scoring='accuracy')\n",
    "# but since this is an classification problem, you need to consider the recall and precision\n",
    "# first you can use cross_val_predict to the prediction on each test fold. \n",
    "y_predict = cross_val_predict(model, x,y, cv=3)\n",
    "\n",
    "# using the y_predict and y, compute the confusion matrix, trough which you can work out the recall and precision. \n",
    "confusion_matrix(y,y_predict)\n",
    "# of course you can directly comput recall and precision using precision_score and recall_score\n",
    "print(recall_score(y,y_predict), precision_score(y,y_predict))\n",
    "# you can also use cross_val_score to calculate the precision  and recall \n",
    "# which means that, for each devide, you train the model, compare the prediction and test test, and get the two scores.\n",
    "cross_val_score(model,x,y,cv=3,scoring='precision')\n",
    "cross_val_score(model,x,y,cv=3,scoring='recall')"
   ]
  },
  {
   "cell_type": "markdown",
   "metadata": {},
   "source": [
    "If you want to deal with multiple classes, use softmax.\n",
    " ScikitLearn’s LogisticRegression uses one-versus-the-rest by default when you train it on more than two classes, but you can set the multi_class hyperparameter to \"multinomial\" to switch it to Softmax Regression. You must also specify a solver that supports Softmax Regression, such as the \"lbfgs\" solver (see Scikit-Learn’s documentation for more details). It also applies ℓ2 regularization by default, which you can control using the hyperparameter C:\n"
   ]
  },
  {
   "cell_type": "code",
   "execution_count": 76,
   "metadata": {},
   "outputs": [],
   "source": [
    "from sklearn.datasets import load_iris\n",
    "iris=load_iris()"
   ]
  },
  {
   "cell_type": "code",
   "execution_count": 82,
   "metadata": {},
   "outputs": [
    {
     "name": "stdout",
     "output_type": "stream",
     "text": [
      "[[6.38014896e-07 5.74929995e-02 9.42506362e-01]]\n"
     ]
    }
   ],
   "source": [
    "X = iris[\"data\"][:, (2, 3)] # petal length, petal width\n",
    "y = iris[\"target\"]\n",
    "#X= preprocessing.scale(X,axis=0)\n",
    "mult_logistic=LogisticRegression(multi_class=\"multinomial\",solver=\"lbfgs\", C=10)\n",
    "mult_logistic.fit(X,y)\n",
    "print( mult_logistic.predict_proba([[5, 2]]) )\n",
    "# but how to calculate the recall, precision ???"
   ]
  },
  {
   "cell_type": "code",
   "execution_count": null,
   "metadata": {},
   "outputs": [],
   "source": []
  }
 ],
 "metadata": {
  "kernelspec": {
   "display_name": "Python 3",
   "language": "python",
   "name": "python3"
  },
  "language_info": {
   "codemirror_mode": {
    "name": "ipython",
    "version": 3
   },
   "file_extension": ".py",
   "mimetype": "text/x-python",
   "name": "python",
   "nbconvert_exporter": "python",
   "pygments_lexer": "ipython3",
   "version": "3.8.3"
  }
 },
 "nbformat": 4,
 "nbformat_minor": 4
}
