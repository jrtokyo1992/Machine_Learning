{
 "cells": [
  {
   "cell_type": "markdown",
   "metadata": {},
   "source": [
    "# Introduction\n",
    "This code shows some basic steps in doing a ML project using pipeline. I made some modifications so the whole process looks easier to understand."
   ]
  },
  {
   "cell_type": "code",
   "execution_count": 1,
   "metadata": {},
   "outputs": [],
   "source": [
    "from sklearn.pipeline import Pipeline\n",
    "from sklearn.preprocessing import StandardScaler\n",
    "from sklearn.impute import SimpleImputer\n",
    "from sklearn.preprocessing import RobustScaler\n",
    "from functools import reduce\n",
    "from sklearn.compose import ColumnTransformer\n",
    "import numpy as np\n",
    "from sklearn.ensemble import IsolationForest"
   ]
  },
  {
   "cell_type": "code",
   "execution_count": 8,
   "metadata": {},
   "outputs": [],
   "source": [
    "import pandas as pd\n",
    "def load_housing_data(housing_path=HOUSING_PATH):\n",
    "    csv_path = os.path.join(housing_path, \"housing.csv\")\n",
    "    return pd.read_csv(csv_path)"
   ]
  },
  {
   "cell_type": "code",
   "execution_count": 2,
   "metadata": {},
   "outputs": [
    {
     "data": {
      "text/html": [
       "<div>\n",
       "<style scoped>\n",
       "    .dataframe tbody tr th:only-of-type {\n",
       "        vertical-align: middle;\n",
       "    }\n",
       "\n",
       "    .dataframe tbody tr th {\n",
       "        vertical-align: top;\n",
       "    }\n",
       "\n",
       "    .dataframe thead th {\n",
       "        text-align: right;\n",
       "    }\n",
       "</style>\n",
       "<table border=\"1\" class=\"dataframe\">\n",
       "  <thead>\n",
       "    <tr style=\"text-align: right;\">\n",
       "      <th></th>\n",
       "      <th>longitude</th>\n",
       "      <th>latitude</th>\n",
       "      <th>housing_median_age</th>\n",
       "      <th>total_rooms</th>\n",
       "      <th>total_bedrooms</th>\n",
       "      <th>population</th>\n",
       "      <th>households</th>\n",
       "      <th>median_income</th>\n",
       "      <th>median_house_value</th>\n",
       "      <th>ocean_proximity</th>\n",
       "    </tr>\n",
       "  </thead>\n",
       "  <tbody>\n",
       "    <tr>\n",
       "      <th>0</th>\n",
       "      <td>-122.23</td>\n",
       "      <td>37.88</td>\n",
       "      <td>41.0</td>\n",
       "      <td>880.0</td>\n",
       "      <td>129.0</td>\n",
       "      <td>322.0</td>\n",
       "      <td>126.0</td>\n",
       "      <td>8.3252</td>\n",
       "      <td>452600.0</td>\n",
       "      <td>NEAR BAY</td>\n",
       "    </tr>\n",
       "    <tr>\n",
       "      <th>1</th>\n",
       "      <td>-122.22</td>\n",
       "      <td>37.86</td>\n",
       "      <td>21.0</td>\n",
       "      <td>7099.0</td>\n",
       "      <td>1106.0</td>\n",
       "      <td>2401.0</td>\n",
       "      <td>1138.0</td>\n",
       "      <td>8.3014</td>\n",
       "      <td>358500.0</td>\n",
       "      <td>NEAR BAY</td>\n",
       "    </tr>\n",
       "    <tr>\n",
       "      <th>2</th>\n",
       "      <td>-122.24</td>\n",
       "      <td>37.85</td>\n",
       "      <td>52.0</td>\n",
       "      <td>1467.0</td>\n",
       "      <td>190.0</td>\n",
       "      <td>496.0</td>\n",
       "      <td>177.0</td>\n",
       "      <td>7.2574</td>\n",
       "      <td>352100.0</td>\n",
       "      <td>NEAR BAY</td>\n",
       "    </tr>\n",
       "    <tr>\n",
       "      <th>3</th>\n",
       "      <td>-122.25</td>\n",
       "      <td>37.85</td>\n",
       "      <td>52.0</td>\n",
       "      <td>1274.0</td>\n",
       "      <td>235.0</td>\n",
       "      <td>558.0</td>\n",
       "      <td>219.0</td>\n",
       "      <td>5.6431</td>\n",
       "      <td>341300.0</td>\n",
       "      <td>NEAR BAY</td>\n",
       "    </tr>\n",
       "    <tr>\n",
       "      <th>4</th>\n",
       "      <td>-122.25</td>\n",
       "      <td>37.85</td>\n",
       "      <td>52.0</td>\n",
       "      <td>1627.0</td>\n",
       "      <td>280.0</td>\n",
       "      <td>565.0</td>\n",
       "      <td>259.0</td>\n",
       "      <td>3.8462</td>\n",
       "      <td>342200.0</td>\n",
       "      <td>NEAR BAY</td>\n",
       "    </tr>\n",
       "  </tbody>\n",
       "</table>\n",
       "</div>"
      ],
      "text/plain": [
       "   longitude  latitude  housing_median_age  total_rooms  total_bedrooms  \\\n",
       "0    -122.23     37.88                41.0        880.0           129.0   \n",
       "1    -122.22     37.86                21.0       7099.0          1106.0   \n",
       "2    -122.24     37.85                52.0       1467.0           190.0   \n",
       "3    -122.25     37.85                52.0       1274.0           235.0   \n",
       "4    -122.25     37.85                52.0       1627.0           280.0   \n",
       "\n",
       "   population  households  median_income  median_house_value ocean_proximity  \n",
       "0       322.0       126.0         8.3252            452600.0        NEAR BAY  \n",
       "1      2401.0      1138.0         8.3014            358500.0        NEAR BAY  \n",
       "2       496.0       177.0         7.2574            352100.0        NEAR BAY  \n",
       "3       558.0       219.0         5.6431            341300.0        NEAR BAY  \n",
       "4       565.0       259.0         3.8462            342200.0        NEAR BAY  "
      ]
     },
     "execution_count": 2,
     "metadata": {},
     "output_type": "execute_result"
    }
   ],
   "source": [
    "import pandas as pd\n",
    "df_raw = pd.read_csv('housing.csv')\n",
    "df_raw.head()"
   ]
  },
  {
   "cell_type": "code",
   "execution_count": 13,
   "metadata": {},
   "outputs": [
    {
     "name": "stdout",
     "output_type": "stream",
     "text": [
      "<class 'pandas.core.frame.DataFrame'>\n",
      "RangeIndex: 20640 entries, 0 to 20639\n",
      "Data columns (total 10 columns):\n",
      " #   Column              Non-Null Count  Dtype  \n",
      "---  ------              --------------  -----  \n",
      " 0   longitude           20640 non-null  float64\n",
      " 1   latitude            20640 non-null  float64\n",
      " 2   housing_median_age  20640 non-null  float64\n",
      " 3   total_rooms         20640 non-null  float64\n",
      " 4   total_bedrooms      20433 non-null  float64\n",
      " 5   population          20640 non-null  float64\n",
      " 6   households          20640 non-null  float64\n",
      " 7   median_income       20640 non-null  float64\n",
      " 8   median_house_value  20640 non-null  float64\n",
      " 9   ocean_proximity     20640 non-null  object \n",
      "dtypes: float64(9), object(1)\n",
      "memory usage: 1.6+ MB\n"
     ]
    }
   ],
   "source": [
    "df_raw.info()"
   ]
  },
  {
   "cell_type": "code",
   "execution_count": 16,
   "metadata": {},
   "outputs": [
    {
     "data": {
      "text/plain": [
       "longitude               0\n",
       "latitude                0\n",
       "housing_median_age      0\n",
       "total_rooms             0\n",
       "total_bedrooms        207\n",
       "population              0\n",
       "households              0\n",
       "median_income           0\n",
       "median_house_value      0\n",
       "ocean_proximity         0\n",
       "dtype: int64"
      ]
     },
     "execution_count": 16,
     "metadata": {},
     "output_type": "execute_result"
    }
   ],
   "source": [
    "df_raw.isnull().apply(sum) # check the null value"
   ]
  },
  {
   "cell_type": "code",
   "execution_count": 20,
   "metadata": {},
   "outputs": [
    {
     "data": {
      "text/html": [
       "<div>\n",
       "<style scoped>\n",
       "    .dataframe tbody tr th:only-of-type {\n",
       "        vertical-align: middle;\n",
       "    }\n",
       "\n",
       "    .dataframe tbody tr th {\n",
       "        vertical-align: top;\n",
       "    }\n",
       "\n",
       "    .dataframe thead th {\n",
       "        text-align: right;\n",
       "    }\n",
       "</style>\n",
       "<table border=\"1\" class=\"dataframe\">\n",
       "  <thead>\n",
       "    <tr style=\"text-align: right;\">\n",
       "      <th></th>\n",
       "      <th>longitude</th>\n",
       "      <th>latitude</th>\n",
       "      <th>housing_median_age</th>\n",
       "      <th>total_rooms</th>\n",
       "      <th>total_bedrooms</th>\n",
       "      <th>population</th>\n",
       "      <th>households</th>\n",
       "      <th>median_income</th>\n",
       "      <th>median_house_value</th>\n",
       "    </tr>\n",
       "  </thead>\n",
       "  <tbody>\n",
       "    <tr>\n",
       "      <th>count</th>\n",
       "      <td>20640.000000</td>\n",
       "      <td>20640.000000</td>\n",
       "      <td>20640.000000</td>\n",
       "      <td>20640.000000</td>\n",
       "      <td>20433.000000</td>\n",
       "      <td>20640.000000</td>\n",
       "      <td>20640.000000</td>\n",
       "      <td>20640.000000</td>\n",
       "      <td>20640.000000</td>\n",
       "    </tr>\n",
       "    <tr>\n",
       "      <th>mean</th>\n",
       "      <td>-119.569704</td>\n",
       "      <td>35.631861</td>\n",
       "      <td>28.639486</td>\n",
       "      <td>2635.763081</td>\n",
       "      <td>537.870553</td>\n",
       "      <td>1425.476744</td>\n",
       "      <td>499.539680</td>\n",
       "      <td>3.870671</td>\n",
       "      <td>206855.816909</td>\n",
       "    </tr>\n",
       "    <tr>\n",
       "      <th>std</th>\n",
       "      <td>2.003532</td>\n",
       "      <td>2.135952</td>\n",
       "      <td>12.585558</td>\n",
       "      <td>2181.615252</td>\n",
       "      <td>421.385070</td>\n",
       "      <td>1132.462122</td>\n",
       "      <td>382.329753</td>\n",
       "      <td>1.899822</td>\n",
       "      <td>115395.615874</td>\n",
       "    </tr>\n",
       "    <tr>\n",
       "      <th>min</th>\n",
       "      <td>-124.350000</td>\n",
       "      <td>32.540000</td>\n",
       "      <td>1.000000</td>\n",
       "      <td>2.000000</td>\n",
       "      <td>1.000000</td>\n",
       "      <td>3.000000</td>\n",
       "      <td>1.000000</td>\n",
       "      <td>0.499900</td>\n",
       "      <td>14999.000000</td>\n",
       "    </tr>\n",
       "    <tr>\n",
       "      <th>25%</th>\n",
       "      <td>-121.800000</td>\n",
       "      <td>33.930000</td>\n",
       "      <td>18.000000</td>\n",
       "      <td>1447.750000</td>\n",
       "      <td>296.000000</td>\n",
       "      <td>787.000000</td>\n",
       "      <td>280.000000</td>\n",
       "      <td>2.563400</td>\n",
       "      <td>119600.000000</td>\n",
       "    </tr>\n",
       "    <tr>\n",
       "      <th>50%</th>\n",
       "      <td>-118.490000</td>\n",
       "      <td>34.260000</td>\n",
       "      <td>29.000000</td>\n",
       "      <td>2127.000000</td>\n",
       "      <td>435.000000</td>\n",
       "      <td>1166.000000</td>\n",
       "      <td>409.000000</td>\n",
       "      <td>3.534800</td>\n",
       "      <td>179700.000000</td>\n",
       "    </tr>\n",
       "    <tr>\n",
       "      <th>75%</th>\n",
       "      <td>-118.010000</td>\n",
       "      <td>37.710000</td>\n",
       "      <td>37.000000</td>\n",
       "      <td>3148.000000</td>\n",
       "      <td>647.000000</td>\n",
       "      <td>1725.000000</td>\n",
       "      <td>605.000000</td>\n",
       "      <td>4.743250</td>\n",
       "      <td>264725.000000</td>\n",
       "    </tr>\n",
       "    <tr>\n",
       "      <th>max</th>\n",
       "      <td>-114.310000</td>\n",
       "      <td>41.950000</td>\n",
       "      <td>52.000000</td>\n",
       "      <td>39320.000000</td>\n",
       "      <td>6445.000000</td>\n",
       "      <td>35682.000000</td>\n",
       "      <td>6082.000000</td>\n",
       "      <td>15.000100</td>\n",
       "      <td>500001.000000</td>\n",
       "    </tr>\n",
       "  </tbody>\n",
       "</table>\n",
       "</div>"
      ],
      "text/plain": [
       "          longitude      latitude  housing_median_age   total_rooms  \\\n",
       "count  20640.000000  20640.000000        20640.000000  20640.000000   \n",
       "mean    -119.569704     35.631861           28.639486   2635.763081   \n",
       "std        2.003532      2.135952           12.585558   2181.615252   \n",
       "min     -124.350000     32.540000            1.000000      2.000000   \n",
       "25%     -121.800000     33.930000           18.000000   1447.750000   \n",
       "50%     -118.490000     34.260000           29.000000   2127.000000   \n",
       "75%     -118.010000     37.710000           37.000000   3148.000000   \n",
       "max     -114.310000     41.950000           52.000000  39320.000000   \n",
       "\n",
       "       total_bedrooms    population    households  median_income  \\\n",
       "count    20433.000000  20640.000000  20640.000000   20640.000000   \n",
       "mean       537.870553   1425.476744    499.539680       3.870671   \n",
       "std        421.385070   1132.462122    382.329753       1.899822   \n",
       "min          1.000000      3.000000      1.000000       0.499900   \n",
       "25%        296.000000    787.000000    280.000000       2.563400   \n",
       "50%        435.000000   1166.000000    409.000000       3.534800   \n",
       "75%        647.000000   1725.000000    605.000000       4.743250   \n",
       "max       6445.000000  35682.000000   6082.000000      15.000100   \n",
       "\n",
       "       median_house_value  \n",
       "count        20640.000000  \n",
       "mean        206855.816909  \n",
       "std         115395.615874  \n",
       "min          14999.000000  \n",
       "25%         119600.000000  \n",
       "50%         179700.000000  \n",
       "75%         264725.000000  \n",
       "max         500001.000000  "
      ]
     },
     "execution_count": 20,
     "metadata": {},
     "output_type": "execute_result"
    }
   ],
   "source": [
    "df_raw.describe()"
   ]
  },
  {
   "cell_type": "markdown",
   "metadata": {},
   "source": [
    "# Check Data Distribution and Correlation\n",
    "So that we can determine whether to creat new variables and transform existing variables."
   ]
  },
  {
   "cell_type": "markdown",
   "metadata": {},
   "source": [
    "## Distribution Plot"
   ]
  },
  {
   "cell_type": "code",
   "execution_count": 24,
   "metadata": {},
   "outputs": [
    {
     "data": {
      "image/png": "[encoded data removed]",
      "text/plain": [
       "<Figure size 1440x1080 with 9 Axes>"
      ]
     },
     "metadata": {
      "needs_background": "light"
     },
     "output_type": "display_data"
    }
   ],
   "source": [
    "import matplotlib.pyplot as plt\n",
    "df_raw.hist(bins=50, figsize=(20,15))\n",
    "plt.show()\n",
    "\n",
    "## Pay attention: \n",
    "### is the target variable censored?\n",
    "### are the varialbes highe skewed? if so, some transformation may be needed.  \n",
    "### In this instance, there are censored data in target variables. May need taken care of."
   ]
  },
  {
   "cell_type": "markdown",
   "metadata": {},
   "source": [
    "## Correlation\n"
   ]
  },
  {
   "cell_type": "code",
   "execution_count": 27,
   "metadata": {},
   "outputs": [
    {
     "data": {
      "text/html": [
       "<div>\n",
       "<style scoped>\n",
       "    .dataframe tbody tr th:only-of-type {\n",
       "        vertical-align: middle;\n",
       "    }\n",
       "\n",
       "    .dataframe tbody tr th {\n",
       "        vertical-align: top;\n",
       "    }\n",
       "\n",
       "    .dataframe thead th {\n",
       "        text-align: right;\n",
       "    }\n",
       "</style>\n",
       "<table border=\"1\" class=\"dataframe\">\n",
       "  <thead>\n",
       "    <tr style=\"text-align: right;\">\n",
       "      <th></th>\n",
       "      <th>longitude</th>\n",
       "      <th>latitude</th>\n",
       "      <th>housing_median_age</th>\n",
       "      <th>median_income</th>\n",
       "      <th>median_house_value</th>\n",
       "      <th>rooms_per_household</th>\n",
       "      <th>bedrooms_per_room</th>\n",
       "      <th>population_per_household</th>\n",
       "    </tr>\n",
       "  </thead>\n",
       "  <tbody>\n",
       "    <tr>\n",
       "      <th>longitude</th>\n",
       "      <td>1.000000</td>\n",
       "      <td>-0.924664</td>\n",
       "      <td>-0.108197</td>\n",
       "      <td>-0.015176</td>\n",
       "      <td>-0.045967</td>\n",
       "      <td>-0.027540</td>\n",
       "      <td>0.092657</td>\n",
       "      <td>0.002476</td>\n",
       "    </tr>\n",
       "    <tr>\n",
       "      <th>latitude</th>\n",
       "      <td>-0.924664</td>\n",
       "      <td>1.000000</td>\n",
       "      <td>0.011173</td>\n",
       "      <td>-0.079809</td>\n",
       "      <td>-0.144160</td>\n",
       "      <td>0.106389</td>\n",
       "      <td>-0.113815</td>\n",
       "      <td>0.002366</td>\n",
       "    </tr>\n",
       "    <tr>\n",
       "      <th>housing_median_age</th>\n",
       "      <td>-0.108197</td>\n",
       "      <td>0.011173</td>\n",
       "      <td>1.000000</td>\n",
       "      <td>-0.119034</td>\n",
       "      <td>0.105623</td>\n",
       "      <td>-0.153277</td>\n",
       "      <td>0.136089</td>\n",
       "      <td>0.013191</td>\n",
       "    </tr>\n",
       "    <tr>\n",
       "      <th>median_income</th>\n",
       "      <td>-0.015176</td>\n",
       "      <td>-0.079809</td>\n",
       "      <td>-0.119034</td>\n",
       "      <td>1.000000</td>\n",
       "      <td>0.688075</td>\n",
       "      <td>0.326895</td>\n",
       "      <td>-0.615661</td>\n",
       "      <td>0.018766</td>\n",
       "    </tr>\n",
       "    <tr>\n",
       "      <th>median_house_value</th>\n",
       "      <td>-0.045967</td>\n",
       "      <td>-0.144160</td>\n",
       "      <td>0.105623</td>\n",
       "      <td>0.688075</td>\n",
       "      <td>1.000000</td>\n",
       "      <td>0.151948</td>\n",
       "      <td>-0.255880</td>\n",
       "      <td>-0.023737</td>\n",
       "    </tr>\n",
       "    <tr>\n",
       "      <th>rooms_per_household</th>\n",
       "      <td>-0.027540</td>\n",
       "      <td>0.106389</td>\n",
       "      <td>-0.153277</td>\n",
       "      <td>0.326895</td>\n",
       "      <td>0.151948</td>\n",
       "      <td>1.000000</td>\n",
       "      <td>-0.416952</td>\n",
       "      <td>-0.004852</td>\n",
       "    </tr>\n",
       "    <tr>\n",
       "      <th>bedrooms_per_room</th>\n",
       "      <td>0.092657</td>\n",
       "      <td>-0.113815</td>\n",
       "      <td>0.136089</td>\n",
       "      <td>-0.615661</td>\n",
       "      <td>-0.255880</td>\n",
       "      <td>-0.416952</td>\n",
       "      <td>1.000000</td>\n",
       "      <td>0.002938</td>\n",
       "    </tr>\n",
       "    <tr>\n",
       "      <th>population_per_household</th>\n",
       "      <td>0.002476</td>\n",
       "      <td>0.002366</td>\n",
       "      <td>0.013191</td>\n",
       "      <td>0.018766</td>\n",
       "      <td>-0.023737</td>\n",
       "      <td>-0.004852</td>\n",
       "      <td>0.002938</td>\n",
       "      <td>1.000000</td>\n",
       "    </tr>\n",
       "  </tbody>\n",
       "</table>\n",
       "</div>"
      ],
      "text/plain": [
       "                          longitude  latitude  housing_median_age  \\\n",
       "longitude                  1.000000 -0.924664           -0.108197   \n",
       "latitude                  -0.924664  1.000000            0.011173   \n",
       "housing_median_age        -0.108197  0.011173            1.000000   \n",
       "median_income             -0.015176 -0.079809           -0.119034   \n",
       "median_house_value        -0.045967 -0.144160            0.105623   \n",
       "rooms_per_household       -0.027540  0.106389           -0.153277   \n",
       "bedrooms_per_room          0.092657 -0.113815            0.136089   \n",
       "population_per_household   0.002476  0.002366            0.013191   \n",
       "\n",
       "                          median_income  median_house_value  \\\n",
       "longitude                     -0.015176           -0.045967   \n",
       "latitude                      -0.079809           -0.144160   \n",
       "housing_median_age            -0.119034            0.105623   \n",
       "median_income                  1.000000            0.688075   \n",
       "median_house_value             0.688075            1.000000   \n",
       "rooms_per_household            0.326895            0.151948   \n",
       "bedrooms_per_room             -0.615661           -0.255880   \n",
       "population_per_household       0.018766           -0.023737   \n",
       "\n",
       "                          rooms_per_household  bedrooms_per_room  \\\n",
       "longitude                           -0.027540           0.092657   \n",
       "latitude                             0.106389          -0.113815   \n",
       "housing_median_age                  -0.153277           0.136089   \n",
       "median_income                        0.326895          -0.615661   \n",
       "median_house_value                   0.151948          -0.255880   \n",
       "rooms_per_household                  1.000000          -0.416952   \n",
       "bedrooms_per_room                   -0.416952           1.000000   \n",
       "population_per_household            -0.004852           0.002938   \n",
       "\n",
       "                          population_per_household  \n",
       "longitude                                 0.002476  \n",
       "latitude                                  0.002366  \n",
       "housing_median_age                        0.013191  \n",
       "median_income                             0.018766  \n",
       "median_house_value                       -0.023737  \n",
       "rooms_per_household                      -0.004852  \n",
       "bedrooms_per_room                         0.002938  \n",
       "population_per_household                  1.000000  "
      ]
     },
     "execution_count": 27,
     "metadata": {},
     "output_type": "execute_result"
    }
   ],
   "source": [
    "corr_matrix = df_raw.corr()\n",
    "corr_matrix\n",
    "# Intuitively, the household income and population, which determins the housing demand ,\n",
    "# and the house structure itself (age, room numbers), together determine the value of house "
   ]
  },
  {
   "cell_type": "markdown",
   "metadata": {},
   "source": [
    "# Add Some New Variables\n"
   ]
  },
  {
   "cell_type": "code",
   "execution_count": 3,
   "metadata": {},
   "outputs": [
    {
     "data": {
      "image/png": "[encoded data removed]",
      "text/plain": [
       "<Figure size 1440x1080 with 12 Axes>"
      ]
     },
     "metadata": {
      "needs_background": "light"
     },
     "output_type": "display_data"
    }
   ],
   "source": [
    "import matplotlib.pyplot as plt\n",
    "df_house = df_raw.copy()\n",
    "df_house['rooms_per_household'] = df_raw['total_rooms']/df_raw['households']\n",
    "df_house['population_per_household'] = df_raw['population']/df_raw['households']\n",
    "df_house['bedrooms_per_room'] = df_raw['total_bedrooms']/df_raw['total_rooms']\n",
    "#df_house = df_house.drop(['total_rooms','population','households','total_bedrooms'], axis = 1)\n",
    "df_house.hist(bins=50, figsize=(20,15))\n",
    "plt.show()\n",
    "# Many variables have skewed distribuion, especially the target variable, median house value.\n",
    "# we need to make some transformation"
   ]
  },
  {
   "cell_type": "markdown",
   "metadata": {},
   "source": [
    "# Data Splitting"
   ]
  },
  {
   "cell_type": "code",
   "execution_count": 44,
   "metadata": {},
   "outputs": [],
   "source": [
    "# split\n",
    "from sklearn.model_selection import train_test_split\n",
    "train_set, test_set = train_test_split(df_house, test_size=0.2, random_state=42)\n",
    "## of course, may want to spend sometime on the strafitied sampling "
   ]
  },
  {
   "cell_type": "markdown",
   "metadata": {},
   "source": [
    "# Create pipelines for data pocessing.\n",
    "\n",
    "## Some rules for writing (custom) pipeline\n",
    "\n",
    "- All but the last class must have fit_transform method, or have both fit and transform method. The last class must have fit method. \n",
    "- In practice, when we are writing a custom class, no matter whether it is the last class or not, be sure to write like the following\n",
    "    - must write a fit function, with function input as (self, x, y = None). do nothing in this fit function. only return self\n",
    "    - write a transform function, with function input as (self, x, y = None). write down the transformation we want\n",
    "- When call the pipeline, remember, your pipeline has the same methods as the last class:\n",
    "    - If the pipeline is for data transformation, we recommend calling like this: mypipeline_name.fit_transform(data). (must use fit_transform)\n",
    "    - If the pipeline is for model training, since most of the time the last class must be an estimator, we recommend calling the pipeline like this: mypipeline_name.fit(x,y)\n",
    "\n",
    "Above is the most safe way to write pipeline.\n",
    "\n"
   ]
  },
  {
   "cell_type": "code",
   "execution_count": null,
   "metadata": {},
   "outputs": [],
   "source": [
    "# a template of transformer:\n",
    "class MyTransformer(object): # \n",
    "    def __init__(self, some_attribute): # no *args or **kargs\n",
    "        self.some_attribute = some_attribute\n",
    "    def fit(self, X, y =None):  # must have this fit function! be sure to write the input as (self, x, y = none)\n",
    "        # This make sense: 'fit' itself means that we need both x and y\n",
    "        # don't do anything here!\n",
    "        return self  \n",
    "    def transform(self,X, y =None): # must have this transform function! be sure to write the input as (self, x, y = none). y = none can be omitted.\n",
    "        # write down the transformation you want to do.\n",
    "        return (something...)"
   ]
  },
  {
   "cell_type": "markdown",
   "metadata": {},
   "source": [
    "## Custom Pipeline: Turn the array back to the dataframe"
   ]
  },
  {
   "cell_type": "code",
   "execution_count": 51,
   "metadata": {},
   "outputs": [],
   "source": [
    "class BacktoDF(object): # \n",
    "    def __init__(self, colnames): # no *args or **kargs\n",
    "        self.colnames = colnames\n",
    "    def fit(self, X, y =None):  # This is the last step in pipeline, so we only need fit method\n",
    "        return self\n",
    "    def transform(self,X, y =None):\n",
    "        if len(self.colnames)== X.shape[1] :\n",
    "            return (pd.DataFrame(X, columns = self.colnames))\n",
    "        else:\n",
    "            raise ValueError('Dimension is not consistent! ')"
   ]
  },
  {
   "cell_type": "markdown",
   "metadata": {},
   "source": [
    "## Customed Pipeline: Get rid of variables we do not want \n"
   ]
  },
  {
   "cell_type": "code",
   "execution_count": 52,
   "metadata": {},
   "outputs": [],
   "source": [
    "class RemoveCol(object): # \n",
    "    def __init__(self, colnames_remove): # no *args or **kargs\n",
    "        self.colnames_remove = colnames_remove\n",
    "    def fit(self, X, y =None):  # This is the last step in pipeline, so we only need fit method\n",
    "        return self\n",
    "    def transform(self,X, y =None):\n",
    "        return (X.drop(self.colnames_remove, axis = 1))"
   ]
  },
  {
   "cell_type": "markdown",
   "metadata": {},
   "source": [
    "## Customed Pipeline: Turn Categorical Variables into Dummies"
   ]
  },
  {
   "cell_type": "code",
   "execution_count": 53,
   "metadata": {},
   "outputs": [],
   "source": [
    "class MyEncoder(object): # Although there is a robustsclaler in the sklearn, here we still practice on writing a class     \n",
    "    def fit(self, X, y = None):\n",
    "        return self # nothing else to do. But this is necessary: we want to add this to the pipeline\n",
    "    def transform(self, X, y = None):\n",
    "        return (  pd.get_dummies(pd.DataFrame(X)))"
   ]
  },
  {
   "cell_type": "markdown",
   "metadata": {},
   "source": [
    "## Customed Pipeline: Turn Some Variables to log\n"
   ]
  },
  {
   "cell_type": "code",
   "execution_count": 54,
   "metadata": {},
   "outputs": [],
   "source": [
    "class log_trans(object): # Although there is a robustsclaler in the sklearn, here we still practice on writing a class\n",
    "    def fit(self, X, y = None):\n",
    "        return self # nothing else to do. But this is necessary: we want to add this to the pipeline\n",
    "    def transform(self, X, y = None):\n",
    "        X = X.apply(np.log)\n",
    "        return ( X)"
   ]
  },
  {
   "cell_type": "markdown",
   "metadata": {},
   "source": [
    "## Define Some Functions for generating the dummy variable names"
   ]
  },
  {
   "cell_type": "code",
   "execution_count": 8,
   "metadata": {},
   "outputs": [],
   "source": [
    "def dummy_name(var_name,df):\n",
    "    return list(map(lambda x: var_name+'_'+ x,list(df[var_name].unique()) ))\n",
    "def dummy_names_for_all(var_names,df):\n",
    "    if len(var_names)==1:\n",
    "        return dummy_name(var_names[0],df)\n",
    "    else:\n",
    "        return list(reduce(lambda x,y: dummy_name(x,df)+dummy_name(y,df),var_names ))"
   ]
  },
  {
   "cell_type": "markdown",
   "metadata": {},
   "source": [
    "## Get Rid of the Anonymous Instances\n",
    "\n"
   ]
  },
  {
   "cell_type": "code",
   "execution_count": 121,
   "metadata": {},
   "outputs": [],
   "source": [
    "# a template of transformer:\n",
    "class AnomalyDetection(IsolationForest): # \n",
    "    def __init__(self, keep_ratio, *args ):\n",
    "        super().__init__(*args)  # call the initialization of attributes inherited from parents\n",
    "        self.contamination = 1-keep_ratio\n",
    "    def fit(self, X, y =None):  # must have this fit function! be sure to write the input as (self, x, y = none)\n",
    "        # This make sense: 'fit' itself means that we need both x and y\n",
    "        # don't do anything here!\n",
    "        return self  \n",
    "    def transform(self,X, y =None): # must have this transform function! be sure to write the input as (self, x, y = none). y = none can be omitted.\n",
    "        # write down the transformation you want to do.\n",
    "        anomaly_res =IsolationForest(random_state = 0, contamination = self.contamination).fit_predict(X)  # super here means the isolationforest\n",
    "       # anomaly_res =self.fit_predict(X)  # super here means the isolationforest\n",
    "        X['normal']= anomaly_res\n",
    "        X = X[X['normal'] ==1 ]\n",
    "        return (X.drop(['normal'], axis = 1))\n",
    "    \n",
    "# how to inherit from the isolationForest????? This is confusing. "
   ]
  },
  {
   "cell_type": "markdown",
   "metadata": {},
   "source": [
    "## Finally: Design a pipeline for data pocessing"
   ]
  },
  {
   "cell_type": "code",
   "execution_count": 122,
   "metadata": {},
   "outputs": [],
   "source": [
    "# Since columntransformer would \n",
    "# prepare for the columns names.\n",
    "num_attribs = list(df_house.drop(['ocean_proximity'], axis = 1))\n",
    "num_attribs_log = ['median_house_value','rooms_per_household','population_per_household','bedrooms_per_room','median_income']\n",
    "num_attribs_scaler =[i for i in num_attribs if i not in num_attribs_log]\n",
    "cat_attribs = [\"ocean_proximity\"]\n",
    "cat_attribs_new = dummy_names_for_all(cat_attribs,df_house) # generate new dummies \n",
    "final_cols= num_attribs_log + num_attribs_scaler + cat_attribs_new\n",
    "remove_cols = ['population','households','total_rooms','total_bedrooms']\n",
    "# The pipeline for numerical variable, for which we want to do log transformation\n",
    "num_log_pipeline = Pipeline([\n",
    "('log_trans', log_trans( )),\n",
    "('imputer', SimpleImputer(strategy=\"median\"))\n",
    "])\n",
    "# The pipeline for numerical varaible, for which we want to do scaling\n",
    "num_scaler_pipeline = Pipeline([\n",
    "('imputer', SimpleImputer(strategy=\"median\")),\n",
    "('std_scaler', RobustScaler()) # after this step, things turn to array\n",
    "])\n",
    "# The pipeline for category variable\n",
    "cat_pipeline = Pipeline(\n",
    "[('imputer', SimpleImputer(strategy=\"most_frequent\")),\n",
    " ('get_dummy', MyEncoder())\n",
    "])\n",
    "# combine both pipelines using transformer. But only return arrary\n",
    "num_cat_pipeline = ColumnTransformer([\n",
    "(\"num_log\", num_log_pipeline, num_attribs_log),\n",
    "(\"num_scaler\", num_scaler_pipeline, num_attribs_scaler),\n",
    "(\"cat\", cat_pipeline, cat_attribs)\n",
    "])\n",
    "# A full\n",
    "full_pipeline = Pipeline([\n",
    "    ('pipeline', num_cat_pipeline),\n",
    "    ('get_dataframe',BacktoDF(colnames = final_cols) ),\n",
    "    ('remove_some_col', RemoveCol(colnames_remove = remove_cols)),\n",
    "    ('remove_abnormal',AnomalyDetection(keep_ratio = 0.95))\n",
    "])\n",
    "\n",
    "train_final = full_pipeline.fit_transform(train_set)"
   ]
  },
  {
   "cell_type": "markdown",
   "metadata": {},
   "source": [
    "## Check the distribution of the final data"
   ]
  },
  {
   "cell_type": "code",
   "execution_count": 46,
   "metadata": {},
   "outputs": [
    {
     "data": {
      "image/png": "[encoded data removed]",
      "text/plain": [
       "<Figure size 1440x1080 with 16 Axes>"
      ]
     },
     "metadata": {
      "needs_background": "light"
     },
     "output_type": "display_data"
    }
   ],
   "source": [
    "train_final.hist(bins=50, figsize=(20,15))\n",
    "plt.show()"
   ]
  },
  {
   "cell_type": "markdown",
   "metadata": {},
   "source": [
    "## Check the correlation"
   ]
  },
  {
   "cell_type": "code",
   "execution_count": 47,
   "metadata": {},
   "outputs": [
    {
     "data": {
      "text/html": [
       "<div>\n",
       "<style scoped>\n",
       "    .dataframe tbody tr th:only-of-type {\n",
       "        vertical-align: middle;\n",
       "    }\n",
       "\n",
       "    .dataframe tbody tr th {\n",
       "        vertical-align: top;\n",
       "    }\n",
       "\n",
       "    .dataframe thead th {\n",
       "        text-align: right;\n",
       "    }\n",
       "</style>\n",
       "<table border=\"1\" class=\"dataframe\">\n",
       "  <thead>\n",
       "    <tr style=\"text-align: right;\">\n",
       "      <th></th>\n",
       "      <th>median_house_value</th>\n",
       "      <th>rooms_per_household</th>\n",
       "      <th>population_per_household</th>\n",
       "      <th>bedrooms_per_room</th>\n",
       "      <th>median_income</th>\n",
       "      <th>longitude</th>\n",
       "      <th>latitude</th>\n",
       "      <th>housing_median_age</th>\n",
       "      <th>ocean_proximity_NEAR BAY</th>\n",
       "      <th>ocean_proximity_&lt;1H OCEAN</th>\n",
       "      <th>ocean_proximity_INLAND</th>\n",
       "      <th>ocean_proximity_NEAR OCEAN</th>\n",
       "      <th>ocean_proximity_ISLAND</th>\n",
       "    </tr>\n",
       "  </thead>\n",
       "  <tbody>\n",
       "    <tr>\n",
       "      <th>median_house_value</th>\n",
       "      <td>1.000000</td>\n",
       "      <td>0.205463</td>\n",
       "      <td>-0.254365</td>\n",
       "      <td>-0.308551</td>\n",
       "      <td>0.685738</td>\n",
       "      <td>-0.011707</td>\n",
       "      <td>-0.205641</td>\n",
       "      <td>0.068908</td>\n",
       "      <td>0.361725</td>\n",
       "      <td>-0.581166</td>\n",
       "      <td>0.020207</td>\n",
       "      <td>0.146389</td>\n",
       "      <td>0.152261</td>\n",
       "    </tr>\n",
       "    <tr>\n",
       "      <th>rooms_per_household</th>\n",
       "      <td>0.205463</td>\n",
       "      <td>1.000000</td>\n",
       "      <td>-0.031115</td>\n",
       "      <td>-0.799661</td>\n",
       "      <td>0.547200</td>\n",
       "      <td>-0.076639</td>\n",
       "      <td>0.159222</td>\n",
       "      <td>-0.222977</td>\n",
       "      <td>-0.159490</td>\n",
       "      <td>0.205671</td>\n",
       "      <td>0.001912</td>\n",
       "      <td>-0.017147</td>\n",
       "      <td>-0.037860</td>\n",
       "    </tr>\n",
       "    <tr>\n",
       "      <th>population_per_household</th>\n",
       "      <td>-0.254365</td>\n",
       "      <td>-0.031115</td>\n",
       "      <td>1.000000</td>\n",
       "      <td>-0.036166</td>\n",
       "      <td>-0.072736</td>\n",
       "      <td>0.149647</td>\n",
       "      <td>-0.138939</td>\n",
       "      <td>-0.002394</td>\n",
       "      <td>0.130189</td>\n",
       "      <td>0.028493</td>\n",
       "      <td>-0.009835</td>\n",
       "      <td>-0.150335</td>\n",
       "      <td>-0.104179</td>\n",
       "    </tr>\n",
       "    <tr>\n",
       "      <th>bedrooms_per_room</th>\n",
       "      <td>-0.308551</td>\n",
       "      <td>-0.799661</td>\n",
       "      <td>-0.036166</td>\n",
       "      <td>1.000000</td>\n",
       "      <td>-0.715614</td>\n",
       "      <td>0.102532</td>\n",
       "      <td>-0.118280</td>\n",
       "      <td>0.158965</td>\n",
       "      <td>0.087099</td>\n",
       "      <td>-0.101631</td>\n",
       "      <td>0.020722</td>\n",
       "      <td>-0.014085</td>\n",
       "      <td>0.026634</td>\n",
       "    </tr>\n",
       "    <tr>\n",
       "      <th>median_income</th>\n",
       "      <td>0.685738</td>\n",
       "      <td>0.547200</td>\n",
       "      <td>-0.072736</td>\n",
       "      <td>-0.715614</td>\n",
       "      <td>1.000000</td>\n",
       "      <td>-0.009343</td>\n",
       "      <td>-0.092953</td>\n",
       "      <td>-0.152641</td>\n",
       "      <td>0.190973</td>\n",
       "      <td>-0.263326</td>\n",
       "      <td>-0.009352</td>\n",
       "      <td>0.053919</td>\n",
       "      <td>0.038412</td>\n",
       "    </tr>\n",
       "    <tr>\n",
       "      <th>longitude</th>\n",
       "      <td>-0.011707</td>\n",
       "      <td>-0.076639</td>\n",
       "      <td>0.149647</td>\n",
       "      <td>0.102532</td>\n",
       "      <td>-0.009343</td>\n",
       "      <td>1.000000</td>\n",
       "      <td>-0.922335</td>\n",
       "      <td>-0.083303</td>\n",
       "      <td>0.322095</td>\n",
       "      <td>-0.083170</td>\n",
       "      <td>0.009602</td>\n",
       "      <td>-0.476865</td>\n",
       "      <td>0.079361</td>\n",
       "    </tr>\n",
       "    <tr>\n",
       "      <th>latitude</th>\n",
       "      <td>-0.205641</td>\n",
       "      <td>0.159222</td>\n",
       "      <td>-0.138939</td>\n",
       "      <td>-0.118280</td>\n",
       "      <td>-0.092953</td>\n",
       "      <td>-0.922335</td>\n",
       "      <td>1.000000</td>\n",
       "      <td>-0.013902</td>\n",
       "      <td>-0.460852</td>\n",
       "      <td>0.382662</td>\n",
       "      <td>-0.017114</td>\n",
       "      <td>0.359346</td>\n",
       "      <td>-0.193300</td>\n",
       "    </tr>\n",
       "    <tr>\n",
       "      <th>housing_median_age</th>\n",
       "      <td>0.068908</td>\n",
       "      <td>-0.222977</td>\n",
       "      <td>-0.002394</td>\n",
       "      <td>0.158965</td>\n",
       "      <td>-0.152641</td>\n",
       "      <td>-0.083303</td>\n",
       "      <td>-0.013902</td>\n",
       "      <td>1.000000</td>\n",
       "      <td>0.058893</td>\n",
       "      <td>-0.236586</td>\n",
       "      <td>0.014869</td>\n",
       "      <td>0.244867</td>\n",
       "      <td>0.020216</td>\n",
       "    </tr>\n",
       "    <tr>\n",
       "      <th>ocean_proximity_NEAR BAY</th>\n",
       "      <td>0.361725</td>\n",
       "      <td>-0.159490</td>\n",
       "      <td>0.130189</td>\n",
       "      <td>0.087099</td>\n",
       "      <td>0.190973</td>\n",
       "      <td>0.322095</td>\n",
       "      <td>-0.460852</td>\n",
       "      <td>0.058893</td>\n",
       "      <td>1.000000</td>\n",
       "      <td>-0.645809</td>\n",
       "      <td>-0.014836</td>\n",
       "      <td>-0.318178</td>\n",
       "      <td>-0.319364</td>\n",
       "    </tr>\n",
       "    <tr>\n",
       "      <th>ocean_proximity_&lt;1H OCEAN</th>\n",
       "      <td>-0.581166</td>\n",
       "      <td>0.205671</td>\n",
       "      <td>0.028493</td>\n",
       "      <td>-0.101631</td>\n",
       "      <td>-0.263326</td>\n",
       "      <td>-0.083170</td>\n",
       "      <td>0.382662</td>\n",
       "      <td>-0.236586</td>\n",
       "      <td>-0.645809</td>\n",
       "      <td>1.000000</td>\n",
       "      <td>-0.011103</td>\n",
       "      <td>-0.238118</td>\n",
       "      <td>-0.239005</td>\n",
       "    </tr>\n",
       "    <tr>\n",
       "      <th>ocean_proximity_INLAND</th>\n",
       "      <td>0.020207</td>\n",
       "      <td>0.001912</td>\n",
       "      <td>-0.009835</td>\n",
       "      <td>0.020722</td>\n",
       "      <td>-0.009352</td>\n",
       "      <td>0.009602</td>\n",
       "      <td>-0.017114</td>\n",
       "      <td>0.014869</td>\n",
       "      <td>-0.014836</td>\n",
       "      <td>-0.011103</td>\n",
       "      <td>1.000000</td>\n",
       "      <td>-0.005470</td>\n",
       "      <td>-0.005491</td>\n",
       "    </tr>\n",
       "    <tr>\n",
       "      <th>ocean_proximity_NEAR OCEAN</th>\n",
       "      <td>0.146389</td>\n",
       "      <td>-0.017147</td>\n",
       "      <td>-0.150335</td>\n",
       "      <td>-0.014085</td>\n",
       "      <td>0.053919</td>\n",
       "      <td>-0.476865</td>\n",
       "      <td>0.359346</td>\n",
       "      <td>0.244867</td>\n",
       "      <td>-0.318178</td>\n",
       "      <td>-0.238118</td>\n",
       "      <td>-0.005470</td>\n",
       "      <td>1.000000</td>\n",
       "      <td>-0.117753</td>\n",
       "    </tr>\n",
       "    <tr>\n",
       "      <th>ocean_proximity_ISLAND</th>\n",
       "      <td>0.152261</td>\n",
       "      <td>-0.037860</td>\n",
       "      <td>-0.104179</td>\n",
       "      <td>0.026634</td>\n",
       "      <td>0.038412</td>\n",
       "      <td>0.079361</td>\n",
       "      <td>-0.193300</td>\n",
       "      <td>0.020216</td>\n",
       "      <td>-0.319364</td>\n",
       "      <td>-0.239005</td>\n",
       "      <td>-0.005491</td>\n",
       "      <td>-0.117753</td>\n",
       "      <td>1.000000</td>\n",
       "    </tr>\n",
       "  </tbody>\n",
       "</table>\n",
       "</div>"
      ],
      "text/plain": [
       "                            median_house_value  rooms_per_household  \\\n",
       "median_house_value                    1.000000             0.205463   \n",
       "rooms_per_household                   0.205463             1.000000   \n",
       "population_per_household             -0.254365            -0.031115   \n",
       "bedrooms_per_room                    -0.308551            -0.799661   \n",
       "median_income                         0.685738             0.547200   \n",
       "longitude                            -0.011707            -0.076639   \n",
       "latitude                             -0.205641             0.159222   \n",
       "housing_median_age                    0.068908            -0.222977   \n",
       "ocean_proximity_NEAR BAY              0.361725            -0.159490   \n",
       "ocean_proximity_<1H OCEAN            -0.581166             0.205671   \n",
       "ocean_proximity_INLAND                0.020207             0.001912   \n",
       "ocean_proximity_NEAR OCEAN            0.146389            -0.017147   \n",
       "ocean_proximity_ISLAND                0.152261            -0.037860   \n",
       "\n",
       "                            population_per_household  bedrooms_per_room  \\\n",
       "median_house_value                         -0.254365          -0.308551   \n",
       "rooms_per_household                        -0.031115          -0.799661   \n",
       "population_per_household                    1.000000          -0.036166   \n",
       "bedrooms_per_room                          -0.036166           1.000000   \n",
       "median_income                              -0.072736          -0.715614   \n",
       "longitude                                   0.149647           0.102532   \n",
       "latitude                                   -0.138939          -0.118280   \n",
       "housing_median_age                         -0.002394           0.158965   \n",
       "ocean_proximity_NEAR BAY                    0.130189           0.087099   \n",
       "ocean_proximity_<1H OCEAN                   0.028493          -0.101631   \n",
       "ocean_proximity_INLAND                     -0.009835           0.020722   \n",
       "ocean_proximity_NEAR OCEAN                 -0.150335          -0.014085   \n",
       "ocean_proximity_ISLAND                     -0.104179           0.026634   \n",
       "\n",
       "                            median_income  longitude  latitude  \\\n",
       "median_house_value               0.685738  -0.011707 -0.205641   \n",
       "rooms_per_household              0.547200  -0.076639  0.159222   \n",
       "population_per_household        -0.072736   0.149647 -0.138939   \n",
       "bedrooms_per_room               -0.715614   0.102532 -0.118280   \n",
       "median_income                    1.000000  -0.009343 -0.092953   \n",
       "longitude                       -0.009343   1.000000 -0.922335   \n",
       "latitude                        -0.092953  -0.922335  1.000000   \n",
       "housing_median_age              -0.152641  -0.083303 -0.013902   \n",
       "ocean_proximity_NEAR BAY         0.190973   0.322095 -0.460852   \n",
       "ocean_proximity_<1H OCEAN       -0.263326  -0.083170  0.382662   \n",
       "ocean_proximity_INLAND          -0.009352   0.009602 -0.017114   \n",
       "ocean_proximity_NEAR OCEAN       0.053919  -0.476865  0.359346   \n",
       "ocean_proximity_ISLAND           0.038412   0.079361 -0.193300   \n",
       "\n",
       "                            housing_median_age  ocean_proximity_NEAR BAY  \\\n",
       "median_house_value                    0.068908                  0.361725   \n",
       "rooms_per_household                  -0.222977                 -0.159490   \n",
       "population_per_household             -0.002394                  0.130189   \n",
       "bedrooms_per_room                     0.158965                  0.087099   \n",
       "median_income                        -0.152641                  0.190973   \n",
       "longitude                            -0.083303                  0.322095   \n",
       "latitude                             -0.013902                 -0.460852   \n",
       "housing_median_age                    1.000000                  0.058893   \n",
       "ocean_proximity_NEAR BAY              0.058893                  1.000000   \n",
       "ocean_proximity_<1H OCEAN            -0.236586                 -0.645809   \n",
       "ocean_proximity_INLAND                0.014869                 -0.014836   \n",
       "ocean_proximity_NEAR OCEAN            0.244867                 -0.318178   \n",
       "ocean_proximity_ISLAND                0.020216                 -0.319364   \n",
       "\n",
       "                            ocean_proximity_<1H OCEAN  ocean_proximity_INLAND  \\\n",
       "median_house_value                          -0.581166                0.020207   \n",
       "rooms_per_household                          0.205671                0.001912   \n",
       "population_per_household                     0.028493               -0.009835   \n",
       "bedrooms_per_room                           -0.101631                0.020722   \n",
       "median_income                               -0.263326               -0.009352   \n",
       "longitude                                   -0.083170                0.009602   \n",
       "latitude                                     0.382662               -0.017114   \n",
       "housing_median_age                          -0.236586                0.014869   \n",
       "ocean_proximity_NEAR BAY                    -0.645809               -0.014836   \n",
       "ocean_proximity_<1H OCEAN                    1.000000               -0.011103   \n",
       "ocean_proximity_INLAND                      -0.011103                1.000000   \n",
       "ocean_proximity_NEAR OCEAN                  -0.238118               -0.005470   \n",
       "ocean_proximity_ISLAND                      -0.239005               -0.005491   \n",
       "\n",
       "                            ocean_proximity_NEAR OCEAN  ocean_proximity_ISLAND  \n",
       "median_house_value                            0.146389                0.152261  \n",
       "rooms_per_household                          -0.017147               -0.037860  \n",
       "population_per_household                     -0.150335               -0.104179  \n",
       "bedrooms_per_room                            -0.014085                0.026634  \n",
       "median_income                                 0.053919                0.038412  \n",
       "longitude                                    -0.476865                0.079361  \n",
       "latitude                                      0.359346               -0.193300  \n",
       "housing_median_age                            0.244867                0.020216  \n",
       "ocean_proximity_NEAR BAY                     -0.318178               -0.319364  \n",
       "ocean_proximity_<1H OCEAN                    -0.238118               -0.239005  \n",
       "ocean_proximity_INLAND                       -0.005470               -0.005491  \n",
       "ocean_proximity_NEAR OCEAN                    1.000000               -0.117753  \n",
       "ocean_proximity_ISLAND                       -0.117753                1.000000  "
      ]
     },
     "execution_count": 47,
     "metadata": {},
     "output_type": "execute_result"
    }
   ],
   "source": [
    "train_final.corr()\n",
    "# still strong correlations among some features. may affect the intepretation of the model."
   ]
  },
  {
   "cell_type": "code",
   "execution_count": 50,
   "metadata": {},
   "outputs": [
    {
     "data": {
      "text/plain": [
       "{'rooms_per_household': 0.20144462528650192,\n",
       " 'population_per_household': -0.44199928471088995,\n",
       " 'bedrooms_per_room': 0.38670934103184534,\n",
       " 'median_income': 0.7811392464876541,\n",
       " 'longitude': -0.554545713577868,\n",
       " 'latitude': -0.538388540018931,\n",
       " 'housing_median_age': 0.050432899422174146,\n",
       " 'ocean_proximity_NEAR BAY': 0.04116687341299036,\n",
       " 'ocean_proximity_<1H OCEAN': -0.2566671799150612,\n",
       " 'ocean_proximity_INLAND': 0.0,\n",
       " 'ocean_proximity_NEAR OCEAN': -0.03431315245716336,\n",
       " 'ocean_proximity_ISLAND': 0.0}"
      ]
     },
     "execution_count": 50,
     "metadata": {},
     "output_type": "execute_result"
    }
   ],
   "source": [
    "\n",
    "from sklearn.linear_model import LassoCV\n",
    "#lr = LogisticRegression( penalty=\"l1\", solver ='saga').fit(x, y)\n",
    "from sklearn.model_selection import train_test_split\n",
    "x_train = train_final.drop(['median_house_value'], axis = 1)\n",
    "y_train = train_final['median_house_value']\n",
    "feature_name = list(x)\n",
    "lr = LassoCV(cv=5, random_state=0).fit(x_train, y_train)\n",
    "dict(zip(feature_name, lr.coef_))"
   ]
  },
  {
   "cell_type": "code",
   "execution_count": 39,
   "metadata": {},
   "outputs": [],
   "source": [
    "from sklearn.ensemble import RandomForestRegressor\n",
    "from sklearn.feature_selection import RFE\n",
    "tree = RandomForestRegressor(n_estimators=100, max_leaf_nodes=16, n_jobs=-1).fit(x_train,y_train)\n",
    "#tree = DecisionTreeClassifier(criterion='entropy', max_depth=4, random_state=0).fit(x,y)\n",
    "select = SelectFromModel(tree, prefit=True)\n",
    "#x_varname_selected =feature_name[select.get_support(indices=True)]"
   ]
  },
  {
   "cell_type": "markdown",
   "metadata": {},
   "source": [
    "# Model Training \n",
    "\n",
    "We can create another pipeline for the training process, including anomaly PCA,feature selection and the final training.\n",
    "For example, lets try feature selection + model training"
   ]
  },
  {
   "cell_type": "code",
   "execution_count": 73,
   "metadata": {},
   "outputs": [],
   "source": [
    "from sklearn.feature_selection import SelectKBest\n",
    "from sklearn.linear_model import LinearRegression\n",
    "\n",
    "x_train = train_final.drop(['median_house_value'], axis = 1)\n",
    "y_train = train_final['median_house_value']\n",
    "pipeline_for_train = Pipeline([\n",
    "    ('Feature_selection', SelectKBest()), # step 1 select parameters\n",
    "    ('Regression',LinearRegression() ) # do model training\n",
    "])\n"
   ]
  },
  {
   "cell_type": "code",
   "execution_count": 66,
   "metadata": {},
   "outputs": [],
   "source": [
    "# 1.Use the pipeline for directly training\n",
    "train_res = pipeline_for_train.fit(x_train,y_train)\n"
   ]
  },
  {
   "cell_type": "code",
   "execution_count": 68,
   "metadata": {},
   "outputs": [],
   "source": [
    "# 2. Use the pipeline for a cross-validation analysis\n",
    "from sklearn.model_selection import cross_val_score\n",
    "#x, y = train_set.drop(['median_house_value'], axis = 1), train_set['median_house_value']\n",
    "scores = cross_val_score(pipeline_for_train, x, y,scoring=\"neg_mean_squared_error\", cv=10)  # check more on the document on cross_val_score"
   ]
  },
  {
   "cell_type": "code",
   "execution_count": 75,
   "metadata": {},
   "outputs": [],
   "source": [
    "# A hyperparameter tuning. very simple syntax. Check the documentation for details.\n",
    "# also check the random search.\n",
    "from sklearn.model_selection import GridSearchCV\n",
    "#x, y = train_set.drop(['median_house_value'], axis = 1), train_set['median_house_value']\n",
    "param_grid = [\n",
    "{'Feature_selection__k': [3, 5, 7], 'Regression__fit_intercept': [True,False]} # step name__parameter\n",
    "]\n",
    "grid_search = GridSearchCV(pipeline_for_train, param_grid, cv=5,scoring='neg_mean_squared_error',return_train_score=True)\n",
    "search_res = grid_search.fit(x, y)"
   ]
  },
  {
   "cell_type": "code",
   "execution_count": 1,
   "metadata": {},
   "outputs": [],
   "source": [
    "from sklearn.datasets import load_iris\n",
    "iris = load_iris()\n",
    "X = iris.data\n",
    "y = iris.target"
   ]
  },
  {
   "cell_type": "code",
   "execution_count": 3,
   "metadata": {},
   "outputs": [],
   "source": [
    "import pandas as pd\n",
    "import numpy as np\n",
    "import seaborn as sns\n",
    "import matplotlib.pyplot as plt\n",
    "#% matplotlib inline\n",
    "\n",
    "from sklearn import datasets\n",
    "from sklearn.decomposition import PCA\n",
    "from sklearn.model_selection import train_test_split\n",
    "from sklearn.tree import DecisionTreeClassifier\n",
    "from sklearn.pipeline import Pipeline\n",
    "from sklearn.preprocessing import StandardScaler\n"
   ]
  },
  {
   "cell_type": "code",
   "execution_count": 4,
   "metadata": {},
   "outputs": [],
   "source": [
    "wine_x, wine_y = datasets.load_wine(return_X_y=True)\n",
    "wine_df_x = pd.DataFrame(wine_x, columns=['Alcohol', 'Malic acid', 'Ash', 'Alcalinity of ash', 'Magnesium', \n",
    "                                          'Total phenols', 'Flavanoids', 'Nonflavanoid phenols', 'Proanthocyanins', \n",
    "                                          'Color intensity', 'Hue', 'OD280/OD315', 'Proline'])\n",
    "wine_df_y = pd.DataFrame(wine_y, columns=['Target'])\n",
    "x_train, x_test, y_train, y_test = train_test_split(wine_df_x, wine_df_y, \n",
    "                                                    test_size=0.2, random_state=40, stratify=wine_df_y)\n"
   ]
  },
  {
   "cell_type": "code",
   "execution_count": 15,
   "metadata": {},
   "outputs": [
    {
     "data": {
      "text/plain": [
       "0.9444444444444444"
      ]
     },
     "execution_count": 15,
     "metadata": {},
     "output_type": "execute_result"
    }
   ],
   "source": [
    "# define steps that need to be in the pipeline\n",
    "steps = [('scaler', StandardScaler()), ('PCA', PCA()), ('DCT', DecisionTreeClassifier())]\n",
    "\n",
    "\n",
    "# create pipeline object\n",
    "pipeline_one = Pipeline(steps)\n",
    "\n",
    "pipeline_one.fit(x_train, y_train)\n",
    "pipeline_one.score(x_test, y_test) \n"
   ]
  },
  {
   "cell_type": "code",
   "execution_count": 20,
   "metadata": {},
   "outputs": [
    {
     "data": {
      "text/plain": [
       "DecisionTreeClassifier(max_depth=3)"
      ]
     },
     "execution_count": 20,
     "metadata": {},
     "output_type": "execute_result"
    }
   ],
   "source": [
    "# we can also change (set) the parameter of some steps\n",
    "pipeline_one.named_steps['DCT'].get_params()\n",
    "params_dct= {'max_depth': 3}\n",
    "pipeline_one.named_steps['DCT'].set_params(**params_dct)"
   ]
  },
  {
   "cell_type": "code",
   "execution_count": 6,
   "metadata": {},
   "outputs": [],
   "source": [
    "# define steps that need to be in the pipeline\n",
    "steps_cv = [('scaler', StandardScaler()), ('PCA', PCA()), ('DCT', DecisionTreeClassifier())]\n",
    "# create pipeline object\n",
    "pipeline_cv = Pipeline(steps_cv)\n",
    "# create a dictionary with parameters\n",
    "parameters = {'DCT__criterion':['gini', 'entropy'], 'DCT__random_state':[10,20], 'DCT__max_depth':[5,10,15,20,25,30]}\n",
    "pipeline"
   ]
  },
  {
   "cell_type": "code",
   "execution_count": null,
   "metadata": {},
   "outputs": [],
   "source": [
    "grid_cv = GridSearchCV(pipeline, param_grid=parameters, cv=10)\n",
    "# fit the training dataset on grid_cv\n",
    "grid_cv.fit(x_train, y_train)\n",
    "print(grid_cv.score(x_test, y_test) )\n",
    "print(grid_cv.best_params_) \n"
   ]
  }
 ],
 "metadata": {
  "kernelspec": {
   "display_name": "Python 3",
   "language": "python",
   "name": "python3"
  },
  "language_info": {
   "codemirror_mode": {
    "name": "ipython",
    "version": 3
   },
   "file_extension": ".py",
   "mimetype": "text/x-python",
   "name": "python",
   "nbconvert_exporter": "python",
   "pygments_lexer": "ipython3",
   "version": "3.8.3"
  },
  "toc": {
   "base_numbering": 1,
   "nav_menu": {},
   "number_sections": true,
   "sideBar": true,
   "skip_h1_title": false,
   "title_cell": "Table of Contents",
   "title_sidebar": "Contents",
   "toc_cell": false,
   "toc_position": {},
   "toc_section_display": true,
   "toc_window_display": false
  }
 },
 "nbformat": 4,
 "nbformat_minor": 4
}
