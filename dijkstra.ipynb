{
 "cells": [
  {
   "cell_type": "code",
   "execution_count": 52,
   "metadata": {},
   "outputs": [],
   "source": [
    "import numpy as np\n",
    "# the map lists the location index\n",
    "# the weight is a matrix describing the distance of each directly connected point pair\n",
    "# you want to study the mininum distance between start_point and end_point\n",
    "   \n",
    "    \n",
    "def dijkstra(weight,Map,start_point,end_point):\n",
    "    n=weight.shape[0]\n",
    "    visited=[start_point]\n",
    "    dist=np.zeros(n) # initialization.\n",
    "    while end_point not in visited:\n",
    "        unvisited=[location for location in Map if location not in visited]\n",
    "        print('the univisited spot',unvisited)\n",
    "        bestperformance=[]\n",
    "        for new_spot in unvisited:\n",
    "            print('new spot',new_spot)\n",
    "            neighbor=[old_spot for old_spot in visited if weight[old_spot,new_spot]>0] # find out all the visited places that can directly goes to this new_spot\n",
    "            print('for this new spot,its visited neighbor is',neighbor)\n",
    "            if (len(neighbor)==0):\n",
    "                bestperformance.append(np.inf)\n",
    "            else:\n",
    "                candidate=[weight[old_spot,new_spot]+dist[old_spot] for old_spot in neighbor]\n",
    "                bestperformance.append(min(candidate))\n",
    "\n",
    "        \n",
    "        a=unvisited[bestperformance.index(min(bestperformance))]\n",
    "        visited.append(a)\n",
    "        dist[a]=min(candidate)\n",
    "    return dist[end_point]\n"
   ]
  },
  {
   "cell_type": "code",
   "execution_count": 53,
   "metadata": {},
   "outputs": [
    {
     "name": "stdout",
     "output_type": "stream",
     "text": [
      "the univisited spot [1, 2, 3, 4]\n",
      "new spot 1\n",
      "for this new spot,its visited neighbor is [0]\n",
      "new spot 2\n",
      "for this new spot,its visited neighbor is []\n",
      "new spot 3\n",
      "for this new spot,its visited neighbor is [0]\n",
      "new spot 4\n",
      "for this new spot,its visited neighbor is []\n",
      "the univisited spot [1, 2, 4]\n",
      "new spot 1\n",
      "for this new spot,its visited neighbor is [0, 3]\n",
      "new spot 2\n",
      "for this new spot,its visited neighbor is []\n",
      "new spot 4\n",
      "for this new spot,its visited neighbor is [3]\n",
      "the univisited spot [1, 2]\n",
      "new spot 1\n",
      "for this new spot,its visited neighbor is [0, 3, 4]\n",
      "new spot 2\n",
      "for this new spot,its visited neighbor is [4]\n",
      "the univisited spot [2]\n",
      "new spot 2\n",
      "for this new spot,its visited neighbor is [4, 1]\n"
     ]
    },
    {
     "data": {
      "text/plain": [
       "7.0"
      ]
     },
     "execution_count": 53,
     "metadata": {},
     "output_type": "execute_result"
    }
   ],
   "source": [
    "dijkstra(a,Map,0,2)"
   ]
  }
 ],
 "metadata": {
  "kernelspec": {
   "display_name": "Python 3",
   "language": "python",
   "name": "python3"
  },
  "language_info": {
   "codemirror_mode": {
    "name": "ipython",
    "version": 3
   },
   "file_extension": ".py",
   "mimetype": "text/x-python",
   "name": "python",
   "nbconvert_exporter": "python",
   "pygments_lexer": "ipython3",
   "version": "3.8.3"
  }
 },
 "nbformat": 4,
 "nbformat_minor": 4
}
