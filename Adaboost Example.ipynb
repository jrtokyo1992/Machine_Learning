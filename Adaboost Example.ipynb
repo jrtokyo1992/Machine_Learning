{
 "cells": [
  {
   "cell_type": "code",
   "execution_count": 120,
   "metadata": {},
   "outputs": [],
   "source": [
    "import numpy as np\n",
    "import math\n",
    "# 这个classify ，你输入数据每个数据的权重，需要输出新学习器的预测（以及学习器训练出的参数，视具体情况），然后返回新学习器的误差，alpha以及对权重的的更新\n",
    "def classify(data,weight):\n",
    "    y=data[:,1]\n",
    "    x=data[:,0] # 在实际应用中你得用其他的数据导入方式\n",
    "    \n",
    "    error=10000000\n",
    "    for i in np.arange(0,len(x)): \n",
    "        y_predict=np.array([1 if k<x[i] else -1 for k in x])\n",
    "        # now we compare y_predict and y. we want to find out the samples that are mistakenly classified.\n",
    "        err=np.sum(weight[np.where(y_predict!=y) ]) # the error \n",
    "        if (err<error):\n",
    "            error=err\n",
    "            threshold_final=x[i]\n",
    "            mistake_final=np.where(y_predict!=y)\n",
    "            y_predict_final=y_predict\n",
    "    \n",
    "    for i in np.arange(0,len(x)): \n",
    "        y_predict=np.array([1 if k>x[i] else -1 for k in x])\n",
    "        # now we compare y_predict and y. we want to find out the samples that are mistakenly classified.\n",
    "        err=np.sum(weight[np.where(y_predict!=y) ]) # the error \n",
    "        if (err<error):\n",
    "            error=err\n",
    "            threshold_final=x[i]\n",
    "            mistake_final=np.where(y_predict!=y)\n",
    "            y_predict_final=y_predict\n",
    "    # in reality, the above is a large classifier. you need mistake_final, y_predict_final,error\n",
    "   # 从error=1000000到上面那一行都是我的自己定义的一个学习器，在实际应用中你应该插入其他的。。但是你都需要返回模型的误差，预测\n",
    "    alpha=0.5*math.log((1-error)/error) \n",
    "    weight_new=np.array([weight[k]*math.exp(-alpha*y[k]*y_predict_final[k]) for k in np.arange(0,len(x)) ])\n",
    "    weight_new=weight_new/np.sum(weight_new)\n",
    "    # you want to return y_predict, weight_new , alpha,\n",
    "    return y_predict_final, weight_new, alpha,error,threshold_final  # 这里的threshold_final 代表的是模型参数，实践中注意换成其他\n",
    "        "
   ]
  },
  {
   "cell_type": "code",
   "execution_count": 121,
   "metadata": {},
   "outputs": [
    {
     "name": "stdout",
     "output_type": "stream",
     "text": [
      "[0.07142857 0.07142857 0.07142857 0.07142857 0.07142857 0.07142857\n",
      " 0.16666667 0.16666667 0.16666667 0.07142857]\n",
      "0.4236489301936017\n",
      "0.30000000000000004\n",
      "3\n",
      "[ 1  1  1 -1 -1 -1 -1 -1 -1 -1]\n",
      "[0.04545455 0.04545455 0.04545455 0.16666667 0.16666667 0.16666667\n",
      " 0.10606061 0.10606061 0.10606061 0.04545455]\n",
      "0.6496414920651304\n",
      "0.21428571428571427\n",
      "9\n",
      "[ 1  1  1  1  1  1  1  1  1 -1]\n",
      "[0.125      0.125      0.125      0.10185185 0.10185185 0.10185185\n",
      " 0.06481481 0.06481481 0.06481481 0.125     ]\n",
      "0.752038698388137\n",
      "0.18181818181818185\n",
      "5\n",
      "[-1 -1 -1 -1 -1 -1  1  1  1  1]\n"
     ]
    }
   ],
   "source": [
    "# The next is just for a test.\n",
    "weight=np.ones(10)*0.1\n",
    "np.shape(weight)\n",
    "y=np.array([1,1,1,-1,-1,-1,1,1,1,-1])\n",
    "x=np.arange(0,10)\n",
    "c=np.stack((x,y)) # 可以把向量叠起来\n",
    "d=c.transpose() # 但是需要一下转置\n",
    "current_predict=np.zeros(10)\n",
    "s=1 \n",
    "while s<=3: # We assume that we only iterate up to 3 basic classifier\n",
    "    y_predict_new,weight_new,alpha_new,wucha,threshold_final=classify(d,weight)\n",
    "    print(wucha) \n",
    "    weight=weight_new\n",
    "    current_predict=current_predict+alpha_new*y_predict_new\n",
    "    s=s+1\n",
    "    "
   ]
  },
  {
   "cell_type": "code",
   "execution_count": null,
   "metadata": {},
   "outputs": [],
   "source": []
  }
 ],
 "metadata": {
  "kernelspec": {
   "display_name": "Python 3",
   "language": "python",
   "name": "python3"
  },
  "language_info": {
   "codemirror_mode": {
    "name": "ipython",
    "version": 3
   },
   "file_extension": ".py",
   "mimetype": "text/x-python",
   "name": "python",
   "nbconvert_exporter": "python",
   "pygments_lexer": "ipython3",
   "version": "3.8.3"
  }
 },
 "nbformat": 4,
 "nbformat_minor": 4
}
