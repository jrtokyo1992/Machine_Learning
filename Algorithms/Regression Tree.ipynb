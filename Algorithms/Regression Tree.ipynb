{
 "cells": [
  {
   "cell_type": "markdown",
   "metadata": {},
   "source": [
    "This code is a practice for the basic Regression Tree. \n",
    "This regression tree can deal with dataset with both discrete and continuous features, but requires that discrete value only takes two values,0 and 1.\n"
   ]
  },
  {
   "cell_type": "code",
   "execution_count": 35,
   "metadata": {},
   "outputs": [
    {
     "data": {
      "text/plain": [
       "['age', 'guarantors', 'housing', 'foreigner', 'creditrating']"
      ]
     },
     "execution_count": 35,
     "metadata": {},
     "output_type": "execute_result"
    }
   ],
   "source": [
    "\n",
    "# some data initialization. \n",
    "import numpy as np\n",
    "import pandas as pd \n",
    "data= pd.read_excel('C:/Users/shufe/Dropbox/ds new/pwchkt.xlsx')\n",
    "data.isnull().any(axis=1) # 判定每行会不会有空值的记录。（某条记录但凡在一个变量上有空值，就认为此记录\n",
    "data=data.dropna(how='any')\n",
    "data=data[['age','creditamount','guarantors','housing','foreigner','creditrating']]\n",
    "data.loc[(data.creditrating == 2),'creditrating']=0\n",
    "data_features=list(data.columns) \n",
    "data_features_original=data_features.copy() # This stores the all features. \n",
    "y='creditamount'\n",
    "data_features.remove(y)\n",
    "# we also need to create a dictionary indicating whether the feature is discrete or not\n",
    "discrete={'age':'no','creditamount':'no','guarantors':'yes','housing':'yes','foreigner':'yes','creditrating':'yes'}\n",
    "data_features"
   ]
  },
  {
   "cell_type": "code",
   "execution_count": 25,
   "metadata": {},
   "outputs": [],
   "source": [
    "# this function choose the best feature given current data set. \n",
    "n_seq=8\n",
    "def BestFeature(Dataset, unvisited_feature):\n",
    "    # want to return the best feature and the resulting data split\n",
    "    # but before this , you can already calculate the the mse of the current data\n",
    "    orginal_mse=mse_cal(Dataset[y])\n",
    "    threshold=[]\n",
    "    mse=[]\n",
    "    #print(unvisited_feature)\n",
    "    for feature in unvisited_feature:\n",
    "        if discrete[feature]=='yes': # this is discrete \n",
    "            # feature is name\n",
    "            # feature level is number?\n",
    "            # next, for each level in the feature_level, get\n",
    "            mse.append(SplitDataSet(Dataset,feature, 0.5)[0])\n",
    "            threshold.append(0.5)\n",
    "        else: # the feature is continuous \n",
    "            # we first generate a threshold sequence \n",
    "            thres_seq=[   min(Dataset[feature])+i*(max(Dataset[feature])-min(Dataset[feature]))/(n_seq-1) \n",
    "                      for i in range(1,n_seq-1)   ]\n",
    "            mse_seq= [ SplitDataSet(Dataset,feature, x)[0] for x in thres_seq]\n",
    "            mse.append(min(mse_seq))\n",
    "            threshold.append(thres_seq[mse_seq.index(min(mse_seq))])\n",
    "        \n",
    "    # we complete the loop with mse  series\n",
    "    # we now return the best feature and the corresponding threshold \n",
    "    # for discrete, the corresponding threshold is always -1 \n",
    "    best_feature=unvisited_feature[mse.index(min(mse))]\n",
    "    best_threshold=threshold[mse.index(min(mse))]\n",
    "    # we also return the splitted dat\n",
    "    return best_feature,best_threshold\n",
    "    # best_feature is a string. best_threshold is a value. \n",
    "    "
   ]
  },
  {
   "cell_type": "code",
   "execution_count": 17,
   "metadata": {},
   "outputs": [],
   "source": [
    "# This function split the data into two parts given the feature and the threshold (value)\n",
    "def SplitDataSet(Dataset,feature, value):\n",
    "# we only consider the binary classification case\n",
    "# given the dataset, feature and value, this function returns splitted data and the resulting MSE!\n",
    "    Data_left=Dataset[Dataset[feature]<value]\n",
    "    Data_right=Dataset[Dataset[feature]>=value]\n",
    "# we want to calculate the mse of the data_left, data_right\n",
    "    Total_mse=mse_cal(Data_left[y])+mse_cal(Data_right[y])\n",
    "    return Total_mse,Data_left, Data_right \n"
   ]
  },
  {
   "cell_type": "code",
   "execution_count": 20,
   "metadata": {},
   "outputs": [],
   "source": [
    "import math\n",
    "from statistics import mean \n",
    "def mse_cal(y_data):\n",
    "    return(sum([pow((i-mean(y_data)),2) for i in y_data]))\n",
    "    "
   ]
  },
  {
   "cell_type": "code",
   "execution_count": 26,
   "metadata": {},
   "outputs": [],
   "source": [
    "# this recursive function creates a tree\n",
    "def createTree(Dataset, layer,features):\n",
    "    # we first need to check whether the layer has already reached the max\n",
    "    if (layer==maxlayer  ):\n",
    "        # you have already reached the deepest. all you have to do is to return the average y\n",
    "        Tree=mean(Dataset[y])\n",
    "    else:\n",
    "        best_feature,best_threshold=BestFeature(Dataset, features)\n",
    "        Tree = {}  # means that you want to generate a new son tree\n",
    "        # the new son tree should contain the following features:\n",
    "        Tree['spInd'] = best_feature # the feature you use to split the data\n",
    "        featuresNext=features\n",
    "        featuresNext.remove(best_feature)  # this feature would no longer be used in the next trees\n",
    "        Tree['spVal'] = best_threshold # the threshold value \n",
    "        data_left, data_right = SplitDataSet(Dataset,best_feature, best_threshold)[1],SplitDataSet(Dataset,best_feature, best_threshold)[2]\n",
    "        Tree['left'] = createTree(data_left,layer+1,featuresNext)\n",
    "        Tree['right'] = createTree(data_right,layer+1,featuresNext)\n",
    "    return Tree"
   ]
  },
  {
   "cell_type": "code",
   "execution_count": 36,
   "metadata": {},
   "outputs": [
    {
     "data": {
      "text/plain": [
       "{'spInd': 'creditrating',\n",
       " 'spVal': 0.5,\n",
       " 'left': {'spInd': 'age',\n",
       "  'spVal': 50.42857142857143,\n",
       "  'left': 3765.631970260223,\n",
       "  'right': 5434.935483870968},\n",
       " 'right': {'spInd': 'foreigner',\n",
       "  'spVal': 0.5,\n",
       "  'left': 1932.909090909091,\n",
       "  'right': 3037.5322338830583}}"
      ]
     },
     "execution_count": 36,
     "metadata": {},
     "output_type": "execute_result"
    }
   ],
   "source": [
    "maxlayer=3\n",
    "createTree(data,1,data_features)"
   ]
  }
 ],
 "metadata": {
  "kernelspec": {
   "display_name": "Python 3",
   "language": "python",
   "name": "python3"
  },
  "language_info": {
   "codemirror_mode": {
    "name": "ipython",
    "version": 3
   },
   "file_extension": ".py",
   "mimetype": "text/x-python",
   "name": "python",
   "nbconvert_exporter": "python",
   "pygments_lexer": "ipython3",
   "version": "3.8.3"
  }
 },
 "nbformat": 4,
 "nbformat_minor": 4
}
