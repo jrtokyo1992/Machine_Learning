{
 "cells": [
  {
   "cell_type": "code",
   "execution_count": 15,
   "metadata": {},
   "outputs": [],
   "source": [
    "# Hidden markov model with Viterbi algorithm\n",
    "def HMM(init, markov,s_o_pr,o_series):\n",
    "    # init is the distribution of the initial state\n",
    "    # markov describe the markov of state value\n",
    "    # s_o_pr describes the possible of observing each output, for each state value\n",
    "    # o_series is the output record\n",
    "    # check https://www.cnblogs.com/pinard/p/6991852.html for the algorithm description\n",
    "    # get number of state values\n",
    "    ns=markov.shape[0]\n",
    "    # get the number of observation values\n",
    "    no=s_o_pr.shape[1]\n",
    "    times=len(o_series)\n",
    "    # now we first do the initialization for t=1\n",
    "    \n",
    "    delta=[]\n",
    "    phi=[]\n",
    "    delta.append([ init[i]*s_o_pr[i,o_series[0]]  for i in range(0,ns)  ] )\n",
    "    phi.append( [0 for i in range(0,ns)]   )\n",
    "    #print(delta)\n",
    "    for t in range(1,times):\n",
    "        new_delta=[]\n",
    "        new_phi=[]\n",
    "        for i in range(0,ns): # at time t, for each state values\n",
    "            # I want to find out the state values at time t-1 that can maximize the possibility of observing o_series[t]\n",
    "            temp=[delta[t-1][j]*markov[j,i]*s_o_pr[i,o_series[t]] for j in range(0,ns)]\n",
    "            # new_delta records such maxmize possibility for each state values\n",
    "            new_delta.append(max(temp)) \n",
    "            # new_phi records the choice.\n",
    "            new_phi.append(temp.index(max(temp)))\n",
    "        # add to the current delta and phi\n",
    "        delta.append(new_delta)\n",
    "        phi.append(new_phi)\n",
    "       # print(delta)\n",
    "     \n",
    "    \n",
    "    # now we have finished the calculation. we track backward the path of the state variables\n",
    "    path=[]\n",
    "    path.append(delta[times-1].index(max(delta[times-1])))\n",
    "    #print('path[0])\n",
    "    while (t>=1):\n",
    "        #path[t]=phi[t][path[t+1]]\n",
    "        path.append(phi[t][path[0]])\n",
    "        #print(t,path[t])\n",
    "        t=t-1\n",
    "    \n",
    "    path.reverse()\n",
    "    \n",
    "    \n",
    "    # we are done\n",
    "    return path     \n",
    "        \n",
    "        \n",
    "    \n",
    "    "
   ]
  },
  {
   "cell_type": "code",
   "execution_count": 16,
   "metadata": {},
   "outputs": [
    {
     "name": "stdout",
     "output_type": "stream",
     "text": [
      "2\n"
     ]
    },
    {
     "data": {
      "text/plain": [
       "[2, 2, 2]"
      ]
     },
     "execution_count": 16,
     "metadata": {},
     "output_type": "execute_result"
    }
   ],
   "source": [
    "import numpy as np\n",
    "init=[0.2,0.4,0.4]\n",
    "a=np.array([0.5,0.2,0.3,0.3,0.5,0.2,0.2,0.3,0.5])\n",
    "a=np.reshape(a, (3, 3))\n",
    "b=np.array([0.5,0.5,0.4,0.6,0.7,0.3])\n",
    "b=np.reshape(b,(3,2))\n",
    "HMM(init,a,b,[0,1,0])"
   ]
  }
 ],
 "metadata": {
  "kernelspec": {
   "display_name": "Python 3",
   "language": "python",
   "name": "python3"
  },
  "language_info": {
   "codemirror_mode": {
    "name": "ipython",
    "version": 3
   },
   "file_extension": ".py",
   "mimetype": "text/x-python",
   "name": "python",
   "nbconvert_exporter": "python",
   "pygments_lexer": "ipython3",
   "version": "3.8.3"
  }
 },
 "nbformat": 4,
 "nbformat_minor": 4
}
